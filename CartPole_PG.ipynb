{
 "cells": [
  {
   "cell_type": "markdown",
   "metadata": {},
   "source": [
    "### Done\n",
    "\n",
    "\n",
    "### ToDo\n",
    "* break training up in smaller batches!\n",
    "* make load also load self.frame and self.episode\n",
    "\n",
    "# CartPole with Policy Gradient"
   ]
  },
  {
   "cell_type": "code",
   "execution_count": null,
   "metadata": {
    "collapsed": false
   },
   "outputs": [],
   "source": [
    "%%javascript\n",
    "\n",
    "Jupyter.keyboard_manager.command_shortcuts.add_shortcut('r', {\n",
    "    help : 'run all cells',\n",
    "    help_index : 'zz',\n",
    "\n",
    "    handler : function (event) {\n",
    "        IPython.notebook.execute_all_cells();\n",
    "        return false;\n",
    "    }\n",
    "});"
   ]
  },
  {
   "cell_type": "code",
   "execution_count": null,
   "metadata": {
    "collapsed": false
   },
   "outputs": [],
   "source": [
    "from __future__ import absolute_import, division, print_function, unicode_literals\n",
    "\n",
    "## Standard libraries\n",
    "import time\n",
    "\n",
    "## 3rd party libraries\n",
    "import tensorflow as tf\n",
    "import numpy as np\n",
    "# %matplotlib inline\n",
    "# import matplotlib.pyplot0as plt\n",
    "# import numpy as np\n",
    "import gym\n",
    "\n",
    "## Custom libraries\n",
    "import modelPolicyGradient\n",
    "import utils\n",
    "import CartPole_config as config"
   ]
  },
  {
   "cell_type": "code",
   "execution_count": null,
   "metadata": {
    "collapsed": true
   },
   "outputs": [],
   "source": [
    "## Settings and parameters\n",
    "experiment_name = None\n",
    "# experiment_name = '2017-07-13-(05-16-25)' # Complete shit\n",
    "# experiment_name = '2017-07-13-(05-59-03)' # Complete shit\n",
    "# experiment_name = '2017-07-12-(17-09-11)' # Almost shit\n",
    "\n",
    "\n",
    "## Training settings\n",
    "learning_rate = 1e-3\n",
    "max_train_frame = 2e6"
   ]
  },
  {
   "cell_type": "code",
   "execution_count": null,
   "metadata": {
    "collapsed": false,
    "scrolled": false
   },
   "outputs": [],
   "source": [
    "## Derived settings\n",
    "run_name = experiment_name or utils.time_str()\n",
    "logdir = './logdir/'+config.env_name+'/PG/' + run_name\n",
    "print('logdir\\t\\t', logdir)"
   ]
  },
  {
   "cell_type": "code",
   "execution_count": null,
   "metadata": {
    "collapsed": false,
    "scrolled": false
   },
   "outputs": [],
   "source": [
    "num_run = 1\n",
    "env = gym.make(config.env_name)\n",
    "for i in range(num_run):\n",
    "    run_name = experiment_name or utils.time_str()\n",
    "    logdir = './logdir/'+config.env_name+'/PG/' + run_name\n",
    "    print('logdir\\t\\t', logdir)\n",
    "\n",
    "    ## Setup\n",
    "    tf.reset_default_graph()\n",
    "    random_seed = int(time.time())\n",
    "    tf.set_random_seed(random_seed)\n",
    "    np.random.seed(random_seed)\n",
    "    print('random seed\\t', random_seed)\n",
    "\n",
    "    ## Build model\n",
    "    agent = modelPolicyGradient.PolicyGradient(config=config, env=env,\n",
    "                  learning_rate=learning_rate, logdir=logdir, \n",
    "                  max_train_frame=max_train_frame,  render=False)\n",
    "    agent.build()\n",
    "    agent.run(load_model=True)\n",
    "    print('done')\n",
    "    print('\\n\\n')"
   ]
  },
  {
   "cell_type": "code",
   "execution_count": null,
   "metadata": {
    "collapsed": false
   },
   "outputs": [],
   "source": [
    "logdir"
   ]
  },
  {
   "cell_type": "code",
   "execution_count": null,
   "metadata": {
    "collapsed": false,
    "scrolled": false
   },
   "outputs": [],
   "source": [
    "## Create a video of the results\n",
    "\n",
    "if 0:\n",
    "    tf.reset_default_graph()\n",
    "    agent = modelPolicyGradient.PolicyGradient(config=config,  \n",
    "                  learning_rate=learning_rate, logdir=logdir, \n",
    "                  max_train_frame=max_train_frame,  render=False)\n",
    "    agent.build()\n",
    "    agent.load_model(logdir)\n",
    "\n",
    "\n",
    "    for i in range(10):\n",
    "        target='./tmp/' + run_name + '_' + str(i) + '.gif'\n",
    "        agent.create_video(run_name, target, num_episodes=1)\n",
    "\n",
    "### WARNING: gif gets distorted in Jupyter!\n",
    "# from IPython.display import Image\n",
    "# Image(url=target)\n",
    "\n",
    "print('done')"
   ]
  },
  {
   "cell_type": "code",
   "execution_count": null,
   "metadata": {
    "collapsed": false,
    "scrolled": false
   },
   "outputs": [],
   "source": [
    "ckpt = tf.train.get_checkpoint_state(logdir)\n",
    "\n",
    "agent.saver.restore(agent.sess, ckpt.model_checkpoint_path)"
   ]
  },
  {
   "cell_type": "code",
   "execution_count": null,
   "metadata": {
    "collapsed": false
   },
   "outputs": [],
   "source": [
    "1"
   ]
  }
 ],
 "metadata": {
  "kernelspec": {
   "display_name": "Python 3",
   "language": "python",
   "name": "python3"
  },
  "language_info": {
   "codemirror_mode": {
    "name": "ipython",
    "version": 3
   },
   "file_extension": ".py",
   "mimetype": "text/x-python",
   "name": "python",
   "nbconvert_exporter": "python",
   "pygments_lexer": "ipython3",
   "version": "3.5.2"
  }
 },
 "nbformat": 4,
 "nbformat_minor": 1
}
