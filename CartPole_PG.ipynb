{
 "cells": [
  {
   "cell_type": "markdown",
   "metadata": {},
   "source": [
    "### Done\n",
    "\n",
    "\n",
    "### ToDo\n",
    "* break training up in smaller batches!\n",
    "\n",
    "# CartPole with Policy Gradient"
   ]
  },
  {
   "cell_type": "code",
   "execution_count": null,
   "metadata": {
    "collapsed": false
   },
   "outputs": [],
   "source": [
    "%%javascript\n",
    "\n",
    "Jupyter.keyboard_manager.command_shortcuts.add_shortcut('r', {\n",
    "    help : 'run all cells',\n",
    "    help_index : 'zz',\n",
    "\n",
    "    handler : function (event) {\n",
    "        IPython.notebook.execute_all_cells();\n",
    "        return false;\n",
    "    }\n",
    "});"
   ]
  },
  {
   "cell_type": "code",
   "execution_count": null,
   "metadata": {
    "collapsed": false
   },
   "outputs": [],
   "source": [
    "from __future__ import absolute_import, division, print_function, unicode_literals\n",
    "\n",
    "## Standard libraries\n",
    "import time\n",
    "\n",
    "## 3rd party libraries\n",
    "%matplotlib inline\n",
    "# import matplotlib.pyplot0as plt\n",
    "import tensorflow as tf\n",
    "# import numpy as np\n",
    "# import gym\n",
    "\n",
    "## Custom libraries\n",
    "import modelPolicyGradient\n",
    "import utils\n",
    "import CartPole_config as config\n"
   ]
  },
  {
   "cell_type": "code",
   "execution_count": null,
   "metadata": {
    "collapsed": true
   },
   "outputs": [],
   "source": [
    "## Settings and parameters\n",
    "experiment_name = None\n",
    "# experiment_name = '2017-07-12-(14-20-44)'\n",
    "\n",
    "## Training settings\n",
    "learning_rate = 1e-3\n",
    "max_train_frame = 2e6"
   ]
  },
  {
   "cell_type": "code",
   "execution_count": null,
   "metadata": {
    "collapsed": false,
    "scrolled": false
   },
   "outputs": [],
   "source": [
    "## Derrived settings\n",
    "experiment_name = experiment_name or utils.time_str()\n",
    "logdir = './logdir/'+config.env_name+'/PG/' + experiment_name\n",
    "print('logdir: ', logdir)\n",
    "\n",
    "## Setup\n",
    "tf.reset_default_graph()\n",
    "tf.set_random_seed(int(time.time()))\n",
    "agent = modelPolicyGradient.PolicyGradient(config=config,  \n",
    "              learning_rate=learning_rate, logdir=logdir, \n",
    "              max_train_frame=max_train_frame,  render=False)\n",
    "agent.build()"
   ]
  },
  {
   "cell_type": "code",
   "execution_count": null,
   "metadata": {
    "collapsed": false
   },
   "outputs": [],
   "source": [
    "agent.run(load_model=True)\n",
    "print('done')"
   ]
  },
  {
   "cell_type": "code",
   "execution_count": null,
   "metadata": {
    "collapsed": false,
    "scrolled": false
   },
   "outputs": [],
   "source": [
    "## Create a video of the results\n",
    "target='./tmp/' + experiment_name + '.gif'\n",
    "agent.create_video(target, num_episodes=1)\n",
    "\n",
    "\n",
    "### WARNING: gif gets distorted in Jupyter!\n",
    "# from IPython.display import Image\n",
    "# Image(url=target)\n",
    "\n",
    "print('done')"
   ]
  },
  {
   "cell_type": "code",
   "execution_count": null,
   "metadata": {
    "collapsed": true
   },
   "outputs": [],
   "source": []
  },
  {
   "cell_type": "code",
   "execution_count": null,
   "metadata": {
    "collapsed": false
   },
   "outputs": [],
   "source": [
    "1"
   ]
  },
  {
   "cell_type": "code",
   "execution_count": null,
   "metadata": {
    "collapsed": false
   },
   "outputs": [],
   "source": [
    "\n",
    "\n"
   ]
  }
 ],
 "metadata": {
  "kernelspec": {
   "display_name": "Python 3",
   "language": "python",
   "name": "python3"
  },
  "language_info": {
   "codemirror_mode": {
    "name": "ipython",
    "version": 3
   },
   "file_extension": ".py",
   "mimetype": "text/x-python",
   "name": "python",
   "nbconvert_exporter": "python",
   "pygments_lexer": "ipython3",
   "version": "3.5.2"
  }
 },
 "nbformat": 4,
 "nbformat_minor": 1
}
