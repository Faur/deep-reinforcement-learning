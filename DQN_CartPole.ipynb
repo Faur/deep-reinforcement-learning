{
 "cells": [
  {
   "cell_type": "markdown",
   "metadata": {},
   "source": [
    "### Done\n",
    "* Forward pass\n",
    "* Backwards pass\n",
    "* Summaries\n",
    "* Replay buffer\n",
    "* target network\n",
    "* Save model\n",
    "* Breakout \n",
    "* preprocessing\n",
    "* Action repeats\n",
    "* Set max episode length! (double of the mean?)\n",
    "* Encapsulate training in a class (or something!)\n",
    "\n",
    "\n",
    "### Missing\n",
    "* TensorBoard Summaries\n",
    "    * Track episode lengths!\n",
    "    * Create a test and a training mode\n",
    "* Have a configure file that is saved along with the experiment\n",
    "    * Be able to load config files!\n",
    "* DQN: use int8 to store the experiences? ~ x4 memory saver\n",
    "* Let it train + collect data for report!\n",
    "\n",
    "### Notes\n",
    "Inspired by: https://medium.com/@awjuliani/simple-reinforcement-learning-with-tensorflow-part-4-deep-q-networks-and-beyond-8438a3e2b8df"
   ]
  },
  {
   "cell_type": "markdown",
   "metadata": {},
   "source": [
    "# DQN on Breakout\n",
    "\n"
   ]
  },
  {
   "cell_type": "code",
   "execution_count": null,
   "metadata": {
    "collapsed": false
   },
   "outputs": [],
   "source": [
    "%%javascript\n",
    "\n",
    "Jupyter.keyboard_manager.command_shortcuts.add_shortcut('r', {\n",
    "    help : 'run all cells',\n",
    "    help_index : 'zz',\n",
    "    handler : function (event) {\n",
    "        IPython.notebook.execute_all_cells();\n",
    "        return false;\n",
    "    }\n",
    "});"
   ]
  },
  {
   "cell_type": "code",
   "execution_count": null,
   "metadata": {
    "collapsed": false
   },
   "outputs": [],
   "source": [
    "from __future__ import absolute_import, division, print_function, unicode_literals\n",
    "\n",
    "%matplotlib inline\n",
    "import os\n",
    "import shutil\n",
    "import numpy as np\n",
    "\n",
    "import matplotlib.pyplot as plt\n",
    "\n",
    "import tensorflow as tf\n",
    "import gym\n",
    "\n",
    "import DQNmodel\n",
    "import utils"
   ]
  },
  {
   "cell_type": "code",
   "execution_count": null,
   "metadata": {
    "collapsed": true
   },
   "outputs": [],
   "source": [
    "env_name = 'CartPole-v1'\n",
    "\n",
    "## Hyperparameters\n",
    "IS_DEBUGGING = True # Make progam run faster\n",
    "IS_DEBUGGING = False\n",
    "\n",
    "\n",
    "# Script behavior\n",
    "logdir = './logdir/'+env_name+'/DQN/' + utils.time_str()\n",
    "model_type = 'dense'\n",
    "\n",
    "\n",
    "# Model\n",
    "gamma = 0.99\n",
    "net_in_dim = [4]\n",
    "preprocessor = None\n",
    "action_repeats = 1 # number of env steps to repeat action\n",
    "\n",
    "\n",
    "# Training\n",
    "max_ep_t = np.inf\n",
    "update_frequency = 4 # How often to update parameters\n",
    "batch_size = 32\n",
    "learning_rate = 1e-3\n",
    "track_interval = 10000 # frames\n",
    "render_interval = 500 # episodes\n",
    "replay_buffer_size = int(1e6)\n",
    "epsilon_init = 1.0\n",
    "epsilon_end = 0.1\n",
    "epsilon_test = 0.01\n",
    "annealing_period = 1e6 # num frames to anneal over, after buffer is full\n",
    "\n",
    "## Various tests\n",
    "assert update_frequency > 1, \"The dimensions doen't allign if update_frequency\" \\\n",
    "    + 'is <= than 1. update_frequency: ' + str(update_frequency)"
   ]
  },
  {
   "cell_type": "code",
   "execution_count": null,
   "metadata": {
    "collapsed": true
   },
   "outputs": [],
   "source": [
    "if IS_DEBUGGING:\n",
    "    track_interval = 5000 # frames\n",
    "    replay_buffer_size = int(5e4)\n",
    "    annealing_period = 1e5 # frames\n"
   ]
  },
  {
   "cell_type": "code",
   "execution_count": null,
   "metadata": {
    "collapsed": false,
    "scrolled": false
   },
   "outputs": [],
   "source": [
    "## Derived settings\n",
    "tf.reset_default_graph()\n",
    "\n",
    "env = gym.make(env_name)\n",
    "obs = env.reset()\n",
    "s_size = list(obs.shape) # Just fun fact, not actually used\n",
    "a_size = env.action_space.n\n",
    "minimum_experience = replay_buffer_size\n",
    "print('-- Environmental variables --')\n",
    "print('env_name  ', env_name)\n",
    "print('model_type', model_type)\n",
    "print('s_size    ', s_size)\n",
    "print('net_in_dim', net_in_dim) # Shape after (optional) preprocessing\n",
    "print('a_size    ', a_size)\n",
    "\n",
    "obsPlaceholder = tf.placeholder(tf.float32, shape=[None]+net_in_dim, name='obsPlaceholder')\n",
    "# Assume action is encoded as ONE number\n",
    "actionPlaceholder = tf.placeholder(tf.int32, shape=[None], name='actionPlaceholder')\n",
    "targetQPlaceholder = tf.placeholder(tf.float32, shape=[None], name='targetQPlaceholder')\n",
    "\n",
    "print('\\n-- Placeholders --')\n",
    "print('obsPlaceholder    ', obsPlaceholder.get_shape())\n",
    "print('actionPlaceholder ', actionPlaceholder.get_shape())\n",
    "print('targetQPlaceholder', targetQPlaceholder.get_shape())\n",
    "print()\n",
    "\n",
    "### Create model\n",
    "with tf.name_scope('DQN1'):\n",
    "    DQN1 = DQNmodel.DQN(model_type, obsPlaceholder, actionPlaceholder, a_size)\n",
    "    DQN1.create_MSE_train_op(targetQPlaceholder, learning_rate=learning_rate)\n",
    "\n",
    "with tf.name_scope('DQN2'):\n",
    "    DQN2 = DQNmodel.DQN(model_type, obsPlaceholder, actionPlaceholder, a_size)\n",
    "    DQN2.create_MSE_train_op(targetQPlaceholder, learning_rate=learning_rate)\n",
    "\n",
    "print('Model summary')\n",
    "DQN1.model.summary()"
   ]
  },
  {
   "cell_type": "code",
   "execution_count": null,
   "metadata": {
    "collapsed": true
   },
   "outputs": [],
   "source": [
    "# Create helper objects\n",
    "envInter = utils.EnvironmentInterface(\n",
    "        preprocessor=preprocessor, action_repeats=action_repeats,\\\n",
    "        merge_frames=False)\n",
    "obsBuf = utils.ObsBuffer(obs_shape=net_in_dim)\n",
    "expBuf = utils.Experience_buffer(replay_buffer_size)\n",
    "annealer = utils.Annealer(epsilon_init, epsilon_end, annealing_period)\n",
    "saver = tf.train.Saver()"
   ]
  },
  {
   "cell_type": "code",
   "execution_count": null,
   "metadata": {
    "collapsed": true
   },
   "outputs": [],
   "source": [
    "## In case of restart\n",
    "expBuf.clear()\n",
    "\n",
    "# TODO: Use TF summaries, this is shit\n",
    "training_summaries = {}\n",
    "training_summaries['num_ep'] = 0\n",
    "training_summaries['ep_rewards'] = []\n",
    "training_summaries['ep_length'] = []\n",
    "training_summaries['epsilon'] = []\n",
    "\n",
    "load_model = False"
   ]
  },
  {
   "cell_type": "code",
   "execution_count": null,
   "metadata": {
    "collapsed": true
   },
   "outputs": [],
   "source": [
    "# load_model = True"
   ]
  },
  {
   "cell_type": "code",
   "execution_count": null,
   "metadata": {
    "collapsed": false
   },
   "outputs": [],
   "source": [
    "# sess.close()"
   ]
  },
  {
   "cell_type": "code",
   "execution_count": null,
   "metadata": {
    "collapsed": false
   },
   "outputs": [],
   "source": [
    "## Initialize sess and Trainer\n",
    "try:\n",
    "    if(sess._closed):\n",
    "        print('Restarting session.')\n",
    "        sess = tf.Session()\n",
    "        sess.run(tf.global_variables_initializer())\n",
    "        trainer = DQNmodel.Trainer(obsBuf, expBuf, annealer, envInter, env, logdir, saver, DQN1, DQN2,\n",
    "            minimum_experience, update_frequency, track_interval, gamma, max_ep_t)\n",
    "        load_model = False\n",
    "    else:\n",
    "        print('Reusing existing session')\n",
    "except NameError:\n",
    "    print('Starting a new session.')\n",
    "    sess = tf.Session()\n",
    "    sess.run(tf.global_variables_initializer())\n",
    "    trainer = DQNmodel.Trainer(obsBuf, expBuf, annealer, envInter, env, logdir, saver, DQN1, DQN2,\n",
    "        minimum_experience, update_frequency, track_interval, gamma, max_ep_t)\n",
    "    load_model = False\n",
    "\n",
    "    \n",
    "\n",
    "trainer.train(sess, training_summaries, epsilon_test, render_interval=50, \n",
    "          obsPlaceholder=obsPlaceholder, actionPlaceholder=actionPlaceholder, \n",
    "          targetQPlaceholder=targetQPlaceholder, batch_size=batch_size,\n",
    "          load_model=load_model)\n",
    "\n",
    "load_model = True"
   ]
  },
  {
   "cell_type": "code",
   "execution_count": null,
   "metadata": {
    "collapsed": false
   },
   "outputs": [],
   "source": [
    "## Visualize training_summaries\n",
    "\n",
    "print('num_ep', training_summaries['num_ep'])\n",
    "\n",
    "fig, ax = plt.subplots(2,2)\n",
    "fig.suptitle('Preprocessor_2d test')\n",
    "ax[0,0].plot(training_summaries['ep_rewards'])\n",
    "ax[0,0].set_title('ep_rewards')\n",
    "ax[0,1].plot(training_summaries['ep_length'])\n",
    "ax[0,1].set_title('ep_length')\n",
    "\n",
    "ax[1,1].plot(training_summaries['epsilon'], c='k')\n",
    "ax[1,1].set_title('epsilon')\n",
    "ax[1,1].set_xlim([0, None])\n",
    "fig.tight_layout()\n",
    "plt.show()"
   ]
  },
  {
   "cell_type": "code",
   "execution_count": null,
   "metadata": {
    "collapsed": false,
    "scrolled": true
   },
   "outputs": [],
   "source": [
    "# ## Run and render a forward pass\n",
    "# import time\n",
    "\n",
    "# env = gym.make(env_name)\n",
    "# env.render()\n",
    "\n",
    "# obs, ep_t, ep_r = envInter.reset(env)\n",
    "# obsBuf.reset()\n",
    "# obsBuf.add(obs)\n",
    "# obs_input = obsBuf.get()\n",
    "\n",
    "\n",
    "# while True:\n",
    "#     try:\n",
    "#         if np.random.rand(1) > epsilon_test:\n",
    "#             action, Qout = sess.run([DQN1.action, DQN1.Qout], feed_dict={obsPlaceholder : [obs_input]})\n",
    "#             print(' ', end=' ')\n",
    "#         else:\n",
    "#             action = np.random.randint(a_size)\n",
    "# #             print('R', end=' ')\n",
    "#         action = int(action)\n",
    "# #         print('action', action, '  Qout', Qout)\n",
    "        \n",
    "#         assert 'int' in str(type(action))\n",
    "#         time.sleep(.015)\n",
    "\n",
    "#         next_obs, reward, done, _ = envInter.take_action(action, env)\n",
    "#         obsBuf.add(next_obs)\n",
    "#         obs_input = obsBuf.get()\n",
    "#         ep_t += 1\n",
    "#         ep_r += reward\n",
    "\n",
    "#         env.render()\n",
    "#         if ep_t > max_ep_t:\n",
    "#             print('max_ep_t exerted!')\n",
    "#             done = True\n",
    "\n",
    "#         if done:\n",
    "#             print(ep_r)\n",
    "#             obs, ep_t, ep_r = envInter.reset(env)\n",
    "#             obsBuf.reset()\n",
    "#             obsBuf.add(obs)\n",
    "#             obs_input = obsBuf.get()\n",
    "\n",
    "#     except KeyboardInterrupt:\n",
    "#         break\n",
    "\n",
    "# env.render(close=True)\n",
    "# print('Terminated')"
   ]
  },
  {
   "cell_type": "code",
   "execution_count": null,
   "metadata": {
    "collapsed": true
   },
   "outputs": [],
   "source": [
    "# sess.close()\n",
    "# env.render(close=True)\n"
   ]
  },
  {
   "cell_type": "code",
   "execution_count": null,
   "metadata": {
    "collapsed": true
   },
   "outputs": [],
   "source": [
    "# ## Some memory evaluation, that doesn't seem to work...\n",
    "# import sys\n",
    "\n",
    "# if env_name == 'Breakout-v0':\n",
    "#     def sizeof_fmt(num, suffix='B'):\n",
    "#         for unit in ['','Ki','Mi','Gi','Ti','Pi','Ei','Zi']:\n",
    "#             if abs(num) < 1024.0:\n",
    "#                 return \"%3.1f%s%s\" % (num, unit, suffix)\n",
    "#             num /= 1024.0\n",
    "#         return \"%.1f%s%s\" % (num, 'Yi', suffix)\n",
    "\n",
    "#     experience_size = 0\n",
    "#     experience_size += sys.getsizeof(expBuf.buffer[0]['action'])\n",
    "#     experience_size += sys.getsizeof(expBuf.buffer[0]['done'])\n",
    "#     experience_size += sys.getsizeof(expBuf.buffer[0]['obs'][0])\n",
    "#     experience_size += sys.getsizeof(expBuf.buffer[0]['next_obs'][0])\n",
    "\n",
    "#     total_ram = 30 * 1024 * 1024 * 1024\n",
    "#     buffer_len = expBuf.buffer_size()\n",
    "\n",
    "#     print('buffer len', buffer_len)\n",
    "#     print('experience_size', sizeof_fmt(experience_size))\n",
    "#     print('buffer memory', sizeof_fmt(experience_size*buffer_len))\n",
    "#     print('total ram', sizeof_fmt(total_ram))\n",
    "#     print('buffer max', sizeof_fmt(experience_size * replay_buffer_size))\n",
    "#     print('Deepmind memory', sizeof_fmt(experience_size * 1e6))\n",
    "\n",
    "#     print(total_ram)"
   ]
  },
  {
   "cell_type": "markdown",
   "metadata": {
    "collapsed": true
   },
   "source": [
    "<br>\n",
    "<br>\n",
    "<br>\n",
    "<br>\n",
    "<br>\n",
    "<br>\n",
    "<br>\n",
    "<br>\n",
    "<br>\n",
    "<br>\n",
    "<br>\n",
    "<br>"
   ]
  }
 ],
 "metadata": {
  "kernelspec": {
   "display_name": "Python 3",
   "language": "python",
   "name": "python3"
  },
  "language_info": {
   "codemirror_mode": {
    "name": "ipython",
    "version": 3
   },
   "file_extension": ".py",
   "mimetype": "text/x-python",
   "name": "python",
   "nbconvert_exporter": "python",
   "pygments_lexer": "ipython3",
   "version": "3.5.2"
  }
 },
 "nbformat": 4,
 "nbformat_minor": 1
}
