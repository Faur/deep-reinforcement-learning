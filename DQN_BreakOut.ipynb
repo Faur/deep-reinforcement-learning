{
 "cells": [
  {
   "cell_type": "markdown",
   "metadata": {},
   "source": [
    "\n",
    "### Done\n",
    "* Forward pass\n",
    "\n",
    "\n",
    "### Missing\n",
    "* preprocessing\n",
    "* Backwards pass\n",
    "* Summaries\n",
    "* Replay buffer\n",
    "* target network\n",
    "* Save model\n",
    "* Breakout \n",
    "* Let it train\n",
    "\n",
    "### Notes\n",
    "Inspired by: https://medium.com/@awjuliani/simple-reinforcement-learning-with-tensorflow-part-4-deep-q-networks-and-beyond-8438a3e2b8df"
   ]
  },
  {
   "cell_type": "markdown",
   "metadata": {},
   "source": [
    "# DQN on Breakout\n",
    "\n"
   ]
  },
  {
   "cell_type": "code",
   "execution_count": 1,
   "metadata": {
    "collapsed": false
   },
   "outputs": [
    {
     "data": {
      "application/javascript": [
       "\n",
       "Jupyter.keyboard_manager.command_shortcuts.add_shortcut('r', {\n",
       "    help : 'run all cells',\n",
       "    help_index : 'zz',\n",
       "    handler : function (event) {\n",
       "        IPython.notebook.execute_all_cells();\n",
       "        return false;\n",
       "    }\n",
       "});"
      ],
      "text/plain": [
       "<IPython.core.display.Javascript object>"
      ]
     },
     "metadata": {},
     "output_type": "display_data"
    }
   ],
   "source": [
    "%%javascript\n",
    "\n",
    "Jupyter.keyboard_manager.command_shortcuts.add_shortcut('r', {\n",
    "    help : 'run all cells',\n",
    "    help_index : 'zz',\n",
    "    handler : function (event) {\n",
    "        IPython.notebook.execute_all_cells();\n",
    "        return false;\n",
    "    }\n",
    "});"
   ]
  },
  {
   "cell_type": "code",
   "execution_count": 2,
   "metadata": {
    "collapsed": true
   },
   "outputs": [],
   "source": [
    "from __future__ import absolute_import, division, print_function, unicode_literals\n",
    "%matplotlib inline"
   ]
  },
  {
   "cell_type": "code",
   "execution_count": 3,
   "metadata": {
    "collapsed": false
   },
   "outputs": [],
   "source": [
    "import numpy as np\n",
    "import tensorflow as tf\n",
    "import gym\n",
    "\n",
    "from tensorflow.contrib.keras.api.keras.layers import Dense, Input, Conv2D, Flatten\n",
    "from tensorflow.contrib.keras.api.keras.models import Model\n",
    "\n",
    "import utils"
   ]
  },
  {
   "cell_type": "code",
   "execution_count": 4,
   "metadata": {
    "collapsed": true
   },
   "outputs": [],
   "source": [
    "## Hyperparameters\n",
    "\n",
    "batch_size = 32\n",
    "training_time = int(50e6) # frames\n",
    "training_time = int(1e5) # frames\n",
    "\n",
    "replay_buffer_size = int(1e6)\n",
    "replay_buffer_size = int(1e4)\n",
    "\n",
    "learning_rate = 0.00025\n",
    "gamma = 0.99\n",
    "epsilon_init = 1.0\n",
    "epsilon_end = 0.1\n",
    "annealing_period = 1e6 # frames\n",
    "annealing_period = 1e5 # frames\n"
   ]
  },
  {
   "cell_type": "code",
   "execution_count": 5,
   "metadata": {
    "collapsed": false
   },
   "outputs": [],
   "source": [
    "## Parameters\n",
    "env_name = 'Breakout-v0'\n",
    "env_name = 'CartPole-v1'\n",
    "\n"
   ]
  },
  {
   "cell_type": "code",
   "execution_count": 6,
   "metadata": {
    "collapsed": false
   },
   "outputs": [
    {
     "name": "stderr",
     "output_type": "stream",
     "text": [
      "[2017-06-14 13:58:13,901] Making new env: CartPole-v1\n"
     ]
    },
    {
     "name": "stdout",
     "output_type": "stream",
     "text": [
      "-- Placeholders --\n",
      "obsPlaceholder (?, 4)\n",
      "actionPlaceholder (?,)\n",
      "rewardPlaceholder (?,)\n",
      "targetQPlaceholder (?,)\n",
      "\n"
     ]
    }
   ],
   "source": [
    "## Derived settings\n",
    "annealer = utils.Annealer(epsilon_init, epsilon_end, annealing_period)\n",
    "\n",
    "env = gym.make(env_name)\n",
    "obs = env.reset()\n",
    "s_size = list(obs.shape)\n",
    "a_size = env.action_space.n\n",
    "\n",
    "obsPlaceholder = tf.placeholder(tf.float32, shape=[None]+s_size, name='obsPlaceholder')\n",
    "# obsPlaceholder = tf.placeholder(tf.float32, shape=[None]+[84, 84, 4], name='obsPlaceholder')\n",
    "# Assume action is encoded as ONE number\n",
    "actionPlaceholder = tf.placeholder(tf.int32, shape=[None], name='actionPlaceholder')\n",
    "rewardPlaceholder = tf.placeholder(tf.float32, shape=[None], name='rewardPlaceholder')\n",
    "targetQPlaceholder = tf.placeholder(tf.float32, shape=[None], name='targetQPlaceholder')\n",
    "\n",
    "print('-- Placeholders --')\n",
    "print('obsPlaceholder', obsPlaceholder.get_shape())\n",
    "print('actionPlaceholder', actionPlaceholder.get_shape())\n",
    "print('rewardPlaceholder', rewardPlaceholder.get_shape())\n",
    "print('targetQPlaceholder', targetQPlaceholder.get_shape())\n",
    "print()\n",
    "\n",
    "### Create model\n",
    "from models import DQN\n",
    "with tf.name_scope('DQN1'):\n",
    "    DQN1 = DQN('dense', obsPlaceholder, actionPlaceholder, a_size)\n",
    "    DQN1.create_train_op(targetQPlaceholder, learning_rate=learning_rate)\n",
    "\n",
    "# print(\"-- Internal tensors --\")\n",
    "# print('qvalues', qvalues.get_shape(), 'One for each action')\n",
    "# print('selectAction', selectAction.get_shape(), 'Just 1')\n",
    "# print('qvalue', qvalue.get_shape(), 'Just 1')\n",
    "\n"
   ]
  },
  {
   "cell_type": "code",
   "execution_count": 7,
   "metadata": {
    "collapsed": false
   },
   "outputs": [],
   "source": [
    "# utils.Experience_buffer().test()"
   ]
  },
  {
   "cell_type": "code",
   "execution_count": null,
   "metadata": {
    "collapsed": true
   },
   "outputs": [],
   "source": [
    "def new_episode(env):\n",
    "    \"\"\"Simple wrapper that restarts the environment\"\"\"\n",
    "    obs = env.reset()\n",
    "    episode_time_step = 0\n",
    "    episode_reward = 0\n",
    "    return obs, episode_time_step, episode_reward"
   ]
  },
  {
   "cell_type": "code",
   "execution_count": null,
   "metadata": {
    "collapsed": false,
    "scrolled": false
   },
   "outputs": [
    {
     "name": "stdout",
     "output_type": "stream",
     "text": [
      "   frames     epis   reward  epsilon\n",
      "    10000,     743,    13.4,   0.900\n",
      "    20000,    1808,    11.1,   0.800\n",
      "    30000,    2879,    10.4,   0.700\n",
      "    40000,    3944,    10.1,   0.600\n",
      "    50000,    5016,    10.0,   0.500\n",
      "    60000,    6087,     9.9,   0.400\n"
     ]
    }
   ],
   "source": [
    "update_frequency = 32 \n",
    "assert update_frequency > 1, \"The dimensions doen't allign if update_frequency\" \\\n",
    "    + 'is less than 1: ' + str(update_frequency)\n",
    "minimum_experience = int(1e4)\n",
    "\n",
    "buffer = utils.Experience_buffer(replay_buffer_size)\n",
    "\n",
    "try:\n",
    "    sess.close()\n",
    "except:\n",
    "    pass\n",
    "sess = tf.Session()\n",
    "sess.run(tf.global_variables_initializer())\n",
    "\n",
    "training_summaries = {}\n",
    "training_summaries['num_ep'] = 0\n",
    "training_summaries['ep_rewards'] = []\n",
    "training_summaries['epsilon'] = []\n",
    "\n",
    "print('{:>9}  {:>7}  {:>7}  {:>7}'.format('frames', 'epis', 'reward', 'epsilon'))\n",
    "\n",
    "obs, ep_t, ep_r = new_episode(env)\n",
    "f = 0\n",
    "for f in range(training_time):\n",
    "    try:\n",
    "        epsilon = annealer.linear(f)\n",
    "    #     action_chosen = sess.run(action, feed_dict={obsPlaceholder : [obs]}) if np.random.rand(1) > epsilon \\\n",
    "    #         else np.random.randint(a_size)\n",
    "        [action] = sess.run(DQN1.action, feed_dict={obsPlaceholder : [obs]})\n",
    "#         print('action_chosen', type(action_chosen), action_chosen)\n",
    "        assert 'int' in str(type(action))\n",
    "        next_obs, reward, done, _ = env.step(action)\n",
    "        # TODO: Preprocess obs\n",
    "        # TODO: wrap in action repeater\n",
    "        ep_t += 1\n",
    "        ep_r += reward\n",
    "        reward = -1 if done and ep_t < 400 else reward\n",
    "\n",
    "        experience = {'obs':[obs], 'action':action, 'reward':reward,\n",
    "                      'next_obs':[next_obs], 'done':done}\n",
    "        buffer.add(experience)\n",
    "        obs = next_obs\n",
    "        \n",
    "        ## Update Weights\n",
    "        if f % update_frequency == 0 \\\n",
    "            and f > minimum_experience:\n",
    "            train_batch = buffer.sample(batch_size)\n",
    "\n",
    "            # Compute ... TODO: add description\n",
    "            action, actualQs = sess.run([DQN1.action, DQN1.Qout],\n",
    "                feed_dict={obsPlaceholder : train_batch['next_obs']}\n",
    "                 )\n",
    "\n",
    "            actualQ = actualQs[range(batch_size), action] # The Q value of the chosen action\n",
    "            not_done = train_batch['done']*(-1) + 1 # Used to remove the actualQ\n",
    "                                                    # When at terminal state\n",
    "            target = train_batch['reward'] + gamma*actualQ*not_done\n",
    "\n",
    "    #         print(\"train_batch['obs']\")\n",
    "    #         print(type(train_batch['obs']))\n",
    "    #         print(train_batch['obs'].shape)\n",
    "    #         print()\n",
    "\n",
    "    #         print('Q1')\n",
    "    #         print(type(Q1))\n",
    "    #         print(Q1.shape)\n",
    "    #         print()\n",
    "\n",
    "    #         print(\"train_batch['action']\")\n",
    "    #         print(type(train_batch['action']))\n",
    "    #         print(train_batch['action'].shape)\n",
    "    #         print()\n",
    "\n",
    "    #         print(\"target\")\n",
    "    #         print(type(target))\n",
    "    #         print(target.shape)\n",
    "    #         print()\n",
    "\n",
    "            Q1_dict = {obsPlaceholder : train_batch['obs'],\n",
    "                       actionPlaceholder : train_batch['action'],\n",
    "                       targetQPlaceholder : target # TODO: Should be target network!\n",
    "                }\n",
    "            _ = sess.run(DQN1.train_op, feed_dict=Q1_dict)\n",
    "        if f % 10000 == 0 and f>0:\n",
    "            print('{:9}, {:7}, {:7.1f}, {:7.3f}'.format(\n",
    "                  f, \n",
    "                  training_summaries['num_ep'],\n",
    "                  np.mean(training_summaries['ep_rewards']),\n",
    "                  training_summaries['epsilon'][-1],\n",
    "                 ))\n",
    "        if done:\n",
    "            training_summaries['num_ep'] += 1\n",
    "            training_summaries['ep_rewards'].append(ep_t)\n",
    "            training_summaries['epsilon'].append(epsilon)\n",
    "            obs, ep_t, ep_r = new_episode(env)\n",
    "    except KeyboardInterrupt:\n",
    "        break\n",
    "        \n",
    "\n",
    "# env.render(close=True)\n",
    "print('\\nTerminated')"
   ]
  },
  {
   "cell_type": "code",
   "execution_count": null,
   "metadata": {
    "collapsed": false
   },
   "outputs": [],
   "source": [
    "training_summaries['epsilon'][-1]"
   ]
  },
  {
   "cell_type": "code",
   "execution_count": null,
   "metadata": {
    "collapsed": false
   },
   "outputs": [],
   "source": [
    "## Run and render a forward pass\n",
    "\n",
    "obs = env.reset()\n",
    "while True:\n",
    "    try:\n",
    "        [action_chosen] = sess.run(selectAction, feed_dict={obsPlaceholder : [obs]})\n",
    "        assert 'int' in str(type(action_chosen))\n",
    "        obs, reward, done, _ = env.step(action_chosen)\n",
    "        env.render()\n",
    "\n",
    "        if done:\n",
    "            obs = env.reset()\n",
    "    except:\n",
    "        break\n",
    "        \n",
    "print('Terminated')"
   ]
  },
  {
   "cell_type": "code",
   "execution_count": null,
   "metadata": {
    "collapsed": false
   },
   "outputs": [],
   "source": [
    "env.render(close=True)"
   ]
  },
  {
   "cell_type": "markdown",
   "metadata": {
    "collapsed": true
   },
   "source": [
    "\n",
    "\n",
    "\n",
    "\n",
    "\n",
    "\n",
    "\n",
    "\n",
    "\n",
    "\n",
    "\n",
    "\n",
    "\n",
    "\n",
    "\n",
    "\n",
    "\n",
    "\n"
   ]
  }
 ],
 "metadata": {
  "kernelspec": {
   "display_name": "Python 3",
   "language": "python",
   "name": "python3"
  },
  "language_info": {
   "codemirror_mode": {
    "name": "ipython",
    "version": 3
   },
   "file_extension": ".py",
   "mimetype": "text/x-python",
   "name": "python",
   "nbconvert_exporter": "python",
   "pygments_lexer": "ipython3",
   "version": "3.5.2"
  }
 },
 "nbformat": 4,
 "nbformat_minor": 1
}
