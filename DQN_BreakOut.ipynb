{
 "cells": [
  {
   "cell_type": "markdown",
   "metadata": {},
   "source": [
    "\n",
    "### Done\n",
    "* Forward pass\n",
    "\n",
    "\n",
    "### Missing\n",
    "* preprocessing\n",
    "* Backwards pass\n",
    "* Summaries\n",
    "* Replay buffer\n",
    "* target network\n",
    "* Save model\n",
    "* Breakout \n",
    "* Let it train"
   ]
  },
  {
   "cell_type": "markdown",
   "metadata": {},
   "source": [
    "# DQN on Breakout\n",
    "\n"
   ]
  },
  {
   "cell_type": "code",
   "execution_count": 1,
   "metadata": {
    "collapsed": false
   },
   "outputs": [
    {
     "data": {
      "application/javascript": [
       "\n",
       "Jupyter.keyboard_manager.command_shortcuts.add_shortcut('r', {\n",
       "    help : 'run all cells',\n",
       "    help_index : 'zz',\n",
       "    handler : function (event) {\n",
       "        IPython.notebook.execute_all_cells();\n",
       "        return false;\n",
       "    }\n",
       "});"
      ],
      "text/plain": [
       "<IPython.core.display.Javascript object>"
      ]
     },
     "metadata": {},
     "output_type": "display_data"
    }
   ],
   "source": [
    "%%javascript\n",
    "\n",
    "Jupyter.keyboard_manager.command_shortcuts.add_shortcut('r', {\n",
    "    help : 'run all cells',\n",
    "    help_index : 'zz',\n",
    "    handler : function (event) {\n",
    "        IPython.notebook.execute_all_cells();\n",
    "        return false;\n",
    "    }\n",
    "});"
   ]
  },
  {
   "cell_type": "code",
   "execution_count": 2,
   "metadata": {
    "collapsed": true
   },
   "outputs": [],
   "source": [
    "from __future__ import absolute_import, division, print_function, unicode_literals\n",
    "%matplotlib inline"
   ]
  },
  {
   "cell_type": "code",
   "execution_count": 3,
   "metadata": {
    "collapsed": false
   },
   "outputs": [
    {
     "name": "stderr",
     "output_type": "stream",
     "text": [
      "Using TensorFlow backend.\n"
     ]
    }
   ],
   "source": [
    "import numpy as np\n",
    "import tensorflow as tf\n",
    "import gym\n",
    "import keras \n",
    "\n",
    "import utils"
   ]
  },
  {
   "cell_type": "code",
   "execution_count": 4,
   "metadata": {
    "collapsed": true
   },
   "outputs": [],
   "source": [
    "## Hyperparameters\n",
    "\n",
    "batch_size = 32\n",
    "training_time = int(50e6) # frames\n",
    "\n",
    "replay_buffer_size = 1e6\n",
    "\n",
    "learning_rate = 0.00025\n",
    "gamma = 0.99\n",
    "epsilon_init = 1.0\n",
    "epsilon_end = 0.1\n",
    "annealing_period = 1e6 # frames\n"
   ]
  },
  {
   "cell_type": "code",
   "execution_count": 5,
   "metadata": {
    "collapsed": false
   },
   "outputs": [],
   "source": [
    "## Parameters\n",
    "env_name = 'Breakout-v0'\n",
    "env_name = 'CartPole-v0'\n",
    "\n"
   ]
  },
  {
   "cell_type": "code",
   "execution_count": 6,
   "metadata": {
    "collapsed": false
   },
   "outputs": [
    {
     "name": "stderr",
     "output_type": "stream",
     "text": [
      "[2017-06-13 11:07:29,864] Making new env: CartPole-v0\n"
     ]
    },
    {
     "name": "stdout",
     "output_type": "stream",
     "text": [
      "(?, 4)\n",
      "(?,)\n",
      "(?, 2)\n"
     ]
    }
   ],
   "source": [
    "## Derived settings\n",
    "annealer = utils.Annealer(epsilon_init, epsilon_end, annealing_period)\n",
    "\n",
    "env = gym.make(env_name)\n",
    "obs = env.reset()\n",
    "s_size = list(obs.shape)\n",
    "a_size = env.action_space.n\n",
    "\n",
    "obsPlaceholder = tf.placeholder(tf.float32, shape=[None]+s_size, name='obsPlaceholder')\n",
    "# obsPlaceholder = tf.placeholder(tf.float32, shape=[None]+[84, 84, 4], name='obsPlaceholder')\n",
    "actionPlaceholder = tf.placeholder(tf.int32, shape=[None], name='actionPlaceholder')\n",
    "\n",
    "actions_onehot = tf.one_hot(actionPlaceholder, a_size, dtype=tf.float32)\n",
    "rewardPlaceholder = tf.placeholder(tf.float32, shape=[None], name='rewardPlaceholder')\n",
    "targetQPlaceholder = tf.placeholder(tf.float32, shape=[None], name='targetQPlaceholder')\n",
    "\n",
    "print(obsPlaceholder.get_shape())\n",
    "print(actionPlaceholder.get_shape())\n",
    "print(actions_onehot.get_shape())\n"
   ]
  },
  {
   "cell_type": "code",
   "execution_count": 7,
   "metadata": {
    "collapsed": false
   },
   "outputs": [
    {
     "name": "stdout",
     "output_type": "stream",
     "text": [
      "(?, 2)\n",
      "(?,)\n"
     ]
    }
   ],
   "source": [
    "from models import DQN\n",
    "# model = DQN(obsPlaceholder, a_size)\n",
    "from models import simple_dense\n",
    "model = simple_dense(obsPlaceholder, a_size, [64, 64])\n",
    "\n",
    "qvalues = model.output\n",
    "qvalue = tf.reduce_sum(tf.multiply(qvalues, actions_onehot), axis=1)\n",
    "print(qvalues.get_shape())\n",
    "print(qvalue.get_shape())\n",
    "action = tf.argmax(qvalues)\n",
    "\n",
    "loss = tf.reduce_mean(tf.square(targetQPlaceholder - qvalue))\n",
    "train_op = tf.train.RMSPropOptimizer(learning_rate).minimize(loss)\n",
    "        \n"
   ]
  },
  {
   "cell_type": "code",
   "execution_count": 13,
   "metadata": {
    "collapsed": true
   },
   "outputs": [],
   "source": [
    "obs = env.reset()\n",
    "env.render()"
   ]
  },
  {
   "cell_type": "code",
   "execution_count": 16,
   "metadata": {
    "collapsed": false
   },
   "outputs": [
    {
     "name": "stdout",
     "output_type": "stream",
     "text": [
      "1.0\n",
      "1.0\n",
      "1.0\n",
      "1.0\n",
      "1.0\n",
      "1.0\n",
      "1.0\n",
      "1.0\n",
      "1.0\n",
      "1.0\n",
      "1.0\n",
      "1.0\n"
     ]
    }
   ],
   "source": [
    "with tf.Session() as sess:\n",
    "    obs = env.reset()\n",
    "    sess.run(tf.global_variables_initializer())\n",
    "    for f in range(training_time):\n",
    "        epsilon = annealer.linear(f)\n",
    "        a = sess.run(action, feed_dict={inputPlaceholder : obs}) if np.random.rand(1) > epsilon \\\n",
    "            else np.random.randint(a_size)\n",
    "\n",
    "        obs, reward, done, _ = env.step(a)\n",
    "        # TODO: Preprocess obs\n",
    "        # TODO: wrap in action repeater\n",
    "        print(reward)\n",
    "\n",
    "#         train_dict = {}\n",
    "#         sess.run(train_op, feed_dict=train_dict)\n",
    "        if done:\n",
    "            break\n",
    "\n",
    "env.render(close=True)"
   ]
  },
  {
   "cell_type": "code",
   "execution_count": null,
   "metadata": {
    "collapsed": true
   },
   "outputs": [],
   "source": []
  },
  {
   "cell_type": "markdown",
   "metadata": {
    "collapsed": true
   },
   "source": [
    "\n",
    "\n",
    "\n",
    "\n",
    "\n",
    "\n",
    "\n",
    "\n",
    "\n",
    "\n",
    "\n",
    "\n",
    "\n",
    "\n",
    "\n",
    "\n",
    "\n",
    "\n"
   ]
  }
 ],
 "metadata": {
  "kernelspec": {
   "display_name": "Python 3",
   "language": "python",
   "name": "python3"
  },
  "language_info": {
   "codemirror_mode": {
    "name": "ipython",
    "version": 3
   },
   "file_extension": ".py",
   "mimetype": "text/x-python",
   "name": "python",
   "nbconvert_exporter": "python",
   "pygments_lexer": "ipython3",
   "version": "3.5.2"
  }
 },
 "nbformat": 4,
 "nbformat_minor": 1
}
