{
 "cells": [
  {
   "cell_type": "markdown",
   "metadata": {},
   "source": [
    "\n",
    "### Done\n",
    "* Forward pass\n",
    "\n",
    "\n",
    "### Missing\n",
    "* preprocessing\n",
    "* Backwards pass\n",
    "* Summaries\n",
    "* Replay buffer\n",
    "* target network\n",
    "* Save model\n",
    "* Breakout \n",
    "* Let it train"
   ]
  },
  {
   "cell_type": "markdown",
   "metadata": {},
   "source": [
    "# DQN on Breakout\n",
    "\n"
   ]
  },
  {
   "cell_type": "code",
   "execution_count": null,
   "metadata": {
    "collapsed": false
   },
   "outputs": [],
   "source": [
    "%%javascript\n",
    "\n",
    "Jupyter.keyboard_manager.command_shortcuts.add_shortcut('r', {\n",
    "    help : 'run all cells',\n",
    "    help_index : 'zz',\n",
    "    handler : function (event) {\n",
    "        IPython.notebook.execute_all_cells();\n",
    "        return false;\n",
    "    }\n",
    "});"
   ]
  },
  {
   "cell_type": "code",
   "execution_count": null,
   "metadata": {
    "collapsed": true
   },
   "outputs": [],
   "source": [
    "from __future__ import absolute_import, division, print_function, unicode_literals\n",
    "%matplotlib inline"
   ]
  },
  {
   "cell_type": "code",
   "execution_count": null,
   "metadata": {
    "collapsed": false
   },
   "outputs": [],
   "source": [
    "import numpy as np\n",
    "import tensorflow as tf\n",
    "import gym\n",
    "import keras \n",
    "\n",
    "import utils"
   ]
  },
  {
   "cell_type": "code",
   "execution_count": null,
   "metadata": {
    "collapsed": true
   },
   "outputs": [],
   "source": [
    "## Hyperparameters\n",
    "\n",
    "batch_size = 32\n",
    "training_time = int(50e6) # frames\n",
    "training_time = int(1e5) # frames\n",
    "\n",
    "replay_buffer_size = int(1e6)\n",
    "replay_buffer_size = int(1e4)\n",
    "\n",
    "learning_rate = 0.00025\n",
    "gamma = 0.99\n",
    "epsilon_init = 1.0\n",
    "epsilon_end = 0.1\n",
    "annealing_period = 1e6 # frames\n"
   ]
  },
  {
   "cell_type": "code",
   "execution_count": null,
   "metadata": {
    "collapsed": false
   },
   "outputs": [],
   "source": [
    "## Parameters\n",
    "env_name = 'Breakout-v0'\n",
    "env_name = 'CartPole-v0'\n",
    "\n"
   ]
  },
  {
   "cell_type": "code",
   "execution_count": null,
   "metadata": {
    "collapsed": false
   },
   "outputs": [],
   "source": [
    "## Derived settings\n",
    "annealer = utils.Annealer(epsilon_init, epsilon_end, annealing_period)\n",
    "\n",
    "env = gym.make(env_name)\n",
    "obs = env.reset()\n",
    "s_size = list(obs.shape)\n",
    "a_size = env.action_space.n\n",
    "\n",
    "obsPlaceholder = tf.placeholder(tf.float32, shape=[None]+s_size, name='obsPlaceholder')\n",
    "# obsPlaceholder = tf.placeholder(tf.float32, shape=[None]+[84, 84, 4], name='obsPlaceholder')\n",
    "# Assume action is encoded as ONE number\n",
    "actionPlaceholder = tf.placeholder(tf.int32, shape=[None], name='actionPlaceholder')\n",
    "actions_onehot = tf.one_hot(actionPlaceholder, a_size, dtype=tf.float32)\n",
    "rewardPlaceholder = tf.placeholder(tf.float32, shape=[None], name='rewardPlaceholder')\n",
    "targetQPlaceholder = tf.placeholder(tf.float32, shape=[None], name='targetQPlaceholder')\n",
    "\n",
    "print('-- Placeholders --')\n",
    "print('obsPlaceholder', obsPlaceholder.get_shape())\n",
    "print('actionPlaceholder', actionPlaceholder.get_shape())\n",
    "print('actions_onehot', actions_onehot.get_shape())\n",
    "print('rewardPlaceholder', rewardPlaceholder.get_shape())\n",
    "print('targetQPlaceholder', targetQPlaceholder.get_shape())\n",
    "print()\n",
    "\n",
    "### Create model\n",
    "from models import DQN\n",
    "# model = DQN(obsPlaceholder, a_size)\n",
    "from models import simple_dense\n",
    "model = simple_dense(obsPlaceholder, a_size, [64, 64])\n",
    "\n",
    "# TODO: Encapsulate all this crap!\n",
    "qvalues = model.output \n",
    "qvalue = tf.reduce_sum(tf.multiply(qvalues, actions_onehot), axis=1)\n",
    "qmax = tf.reduce_max(qvalues, axis=1)\n",
    "action = tf.argmax(qvalues, axis=1) \n",
    "\n",
    "print(\"-- Internal tensors --\")\n",
    "print('qvalues', qvalues.get_shape())\n",
    "print('qvalue', qvalue.get_shape())\n",
    "print('action', action.get_shape())\n",
    "print('qmax', qmax.get_shape())\n",
    "\n",
    "loss = tf.reduce_mean(tf.square(targetQPlaceholder - qvalue)) \n",
    "train_op = tf.train.RMSPropOptimizer(learning_rate).minimize(loss) \n",
    "\n"
   ]
  },
  {
   "cell_type": "code",
   "execution_count": null,
   "metadata": {
    "collapsed": false
   },
   "outputs": [],
   "source": [
    "# utils.Experience_buffer().test()"
   ]
  },
  {
   "cell_type": "code",
   "execution_count": null,
   "metadata": {
    "collapsed": false,
    "scrolled": false
   },
   "outputs": [],
   "source": [
    "update_frequency = 32 \n",
    "assert update_frequency > 1, \"The dimensions doen't allign if update_frequency\" \\\n",
    "    + 'is less than 1: ' + str(update_frequency)\n",
    "minimum_experience = 32\n",
    "\n",
    "\n",
    "buffer = utils.Experience_buffer(replay_buffer_size)\n",
    "\n",
    "try:\n",
    "    sess.close()\n",
    "except:\n",
    "    pass\n",
    "sess = tf.Session()\n",
    "sess.run(tf.global_variables_initializer())\n",
    "\n",
    "obs = env.reset()\n",
    "for f in range(training_time):\n",
    "    epsilon = annealer.linear(f)\n",
    "#     action_chosen = sess.run(action, feed_dict={obsPlaceholder : [obs]}) if np.random.rand(1) > epsilon \\\n",
    "#         else np.random.randint(a_size)\n",
    "    [action_chosen] = sess.run(action, feed_dict={obsPlaceholder : [obs]})\n",
    "    assert 'int' in str(type(action_chosen))\n",
    "    next_obs, reward, done, _ = env.step(action_chosen)\n",
    "    # TODO: Preprocess obs\n",
    "    # TODO: wrap in action repeater\n",
    "\n",
    "    experience = {'obs':[obs], 'action':action_chosen, 'reward':reward,\n",
    "                  'next_obs':[next_obs], 'done':done}\n",
    "    buffer.add(experience)\n",
    "    obs = next_obs\n",
    "\n",
    "    if f % update_frequency == 0 \\\n",
    "        and f > minimum_experience:\n",
    "        train_batch = buffer.sample(batch_size)\n",
    "\n",
    "        # Compute ... TODO: add description\n",
    "        Q1 = sess.run(qmax, feed_dict={\n",
    "                obsPlaceholder : train_batch['next_obs']\n",
    "            })\n",
    "        target = train_batch['reward'] + gamma*Q1\n",
    "        # TODO: where train_batch['done']: change to r\n",
    "\n",
    "#         print(\"train_batch['obs']\")\n",
    "#         print(type(train_batch['obs']))\n",
    "#         print(train_batch['obs'].shape)\n",
    "#         print()\n",
    "\n",
    "#         print('Q1')\n",
    "#         print(type(Q1))\n",
    "#         print(Q1.shape)\n",
    "#         print()\n",
    "\n",
    "#         print(\"train_batch['action']\")\n",
    "#         print(type(train_batch['action']))\n",
    "#         print(train_batch['action'].shape)\n",
    "#         print()\n",
    "\n",
    "#         print(\"target\")\n",
    "#         print(type(target))\n",
    "#         print(target.shape)\n",
    "#         print()\n",
    "\n",
    "        Q1_dict = {obsPlaceholder : train_batch['obs'],\n",
    "                   actionPlaceholder : train_batch['action'],\n",
    "                   targetQPlaceholder : target # TODO: Should be target network!\n",
    "            }\n",
    "        _ = sess.run(train_op, feed_dict=Q1_dict)\n",
    "    if f % 1000 == 0:\n",
    "        print('{:9}'.format(f), end=' ')\n",
    "    if done:\n",
    "        obs = env.reset()\n",
    "        \n",
    "\n",
    "# env.render(close=True)"
   ]
  },
  {
   "cell_type": "code",
   "execution_count": null,
   "metadata": {
    "collapsed": true
   },
   "outputs": [],
   "source": [
    "## Run and render a forward pass\n",
    "\n",
    "obs = env.reset()\n",
    "for f in range(training_time):\n",
    "    [action_chosen] = sess.run(action, feed_dict={obsPlaceholder : [obs]})\n",
    "    assert 'int' in str(type(action_chosen))\n",
    "    obs, reward, done, _ = env.step(action_chosen)\n",
    "    env.render()\n",
    "\n",
    "    if done:\n",
    "        break\n",
    "        \n"
   ]
  },
  {
   "cell_type": "code",
   "execution_count": null,
   "metadata": {
    "collapsed": false
   },
   "outputs": [],
   "source": [
    "env.render(close=True)"
   ]
  },
  {
   "cell_type": "markdown",
   "metadata": {
    "collapsed": true
   },
   "source": [
    "\n",
    "\n",
    "\n",
    "\n",
    "\n",
    "\n",
    "\n",
    "\n",
    "\n",
    "\n",
    "\n",
    "\n",
    "\n",
    "\n",
    "\n",
    "\n",
    "\n",
    "\n"
   ]
  }
 ],
 "metadata": {
  "kernelspec": {
   "display_name": "Python 3",
   "language": "python",
   "name": "python3"
  },
  "language_info": {
   "codemirror_mode": {
    "name": "ipython",
    "version": 3
   },
   "file_extension": ".py",
   "mimetype": "text/x-python",
   "name": "python",
   "nbconvert_exporter": "python",
   "pygments_lexer": "ipython3",
   "version": "3.5.2"
  }
 },
 "nbformat": 4,
 "nbformat_minor": 1
}
