{
 "cells": [
  {
   "cell_type": "code",
   "execution_count": null,
   "metadata": {
    "collapsed": false
   },
   "outputs": [],
   "source": [
    "%%javascript\n",
    "\n",
    "Jupyter.keyboard_manager.command_shortcuts.add_shortcut('r', {\n",
    "    help : 'run all cells',\n",
    "    help_index : 'zz',\n",
    "    handler : function(event) {\n",
    "        IPython.notebook.execute_all_cells();\n",
    "        return false;\n",
    "    }\n",
    "})"
   ]
  },
  {
   "cell_type": "code",
   "execution_count": null,
   "metadata": {
    "collapsed": true
   },
   "outputs": [],
   "source": [
    "from __future__ import absolute_import, division, print_function, unicode_literals\n",
    "\n",
    "import time\n",
    "import gym\n",
    "import numpy as np\n",
    "\n",
    "import Logger\n",
    "import utils\n",
    "import CartPole_config as config\n"
   ]
  },
  {
   "cell_type": "code",
   "execution_count": null,
   "metadata": {
    "collapsed": true
   },
   "outputs": [],
   "source": [
    "experiment_name = None\n",
    "# experiemnt_name = \n",
    "max_train_frame = 2e6\n"
   ]
  },
  {
   "cell_type": "code",
   "execution_count": null,
   "metadata": {
    "collapsed": false
   },
   "outputs": [],
   "source": [
    "run_name = experiment_name or 'RNG_' + utils.time_str()\n",
    "logdir = './logdir/' + config.env_name + '/RNG/' + run_name\n",
    "print('logdir\\t\\t', logdir)\n",
    "\n",
    "random_seed = int(time.time())\n",
    "np.random.seed(random_seed)\n",
    "print('random seed\\t', random_seed)\n"
   ]
  },
  {
   "cell_type": "code",
   "execution_count": null,
   "metadata": {
    "collapsed": false,
    "scrolled": true
   },
   "outputs": [],
   "source": [
    "def run():\n",
    "    try:\n",
    "        env = gym.make(config.env_name)\n",
    "        logger = Logger.Logger(logdir)\n",
    "        frame = 0\n",
    "        episode = 0\n",
    "        rewards = []\n",
    "        \n",
    "        env.reset()\n",
    "        ep_t = 0\n",
    "        ep_r = 0\n",
    "        ep_r_clip = 0\n",
    "        while frame < max_train_frame:\n",
    "            frame += 1\n",
    "            ep_t += 1\n",
    "            \n",
    "            action = np.random.randint(config.num_action)\n",
    "            _, reward, done, _ = env.step(action)\n",
    "            ep_r += reward\n",
    "            reward = np.clip(reward, -1, 1)\n",
    "            ep_r_clip += reward\n",
    "            \n",
    "            if done:\n",
    "                episode += 1\n",
    "                rewards.append(ep_r)\n",
    "                logger.log_scalar('performance/episode_len', ep_t, frame)\n",
    "                logger.log_scalar('performance/reward',      ep_r, frame)\n",
    "                logger.log_scalar('performance/reward_clip', ep_r_clip, frame)\n",
    "                logger.log_scalar('performance/episodes',    episode, frame)\n",
    "                \n",
    "                env.reset()\n",
    "                done = False\n",
    "                ep_t = 0\n",
    "                ep_r = 0\n",
    "                ep_r_clip = 0\n",
    "#                 break\n",
    "                if episode % 5000 == 0:\n",
    "                    print('episode:', episode, '\\tframe', frame)\n",
    "    except KeyboardInterrupt:\n",
    "        print('KeyboardInterrupt')\n",
    "    print('Done')\n",
    "    return rewards\n",
    "\n",
    "rewards = run()"
   ]
  },
  {
   "cell_type": "code",
   "execution_count": null,
   "metadata": {
    "collapsed": false
   },
   "outputs": [],
   "source": [
    "print('len', len(rewards))\n",
    "print('min', np.min(rewards))\n",
    "print('max', np.max(rewards))\n",
    "print('mean', np.mean(rewards))\n",
    "print('sd', np.std(rewards))"
   ]
  },
  {
   "cell_type": "code",
   "execution_count": null,
   "metadata": {
    "collapsed": false
   },
   "outputs": [],
   "source": [
    "%matplotlib inline\n",
    "import matplotlib.pyplot as plt\n",
    "\n",
    "rewards_s = np.sort(rewards)\n",
    "\n",
    "def make_plot(val_list, ax):\n",
    "    means = np.zeros_like(val_list) + np.mean(val_list)\n",
    "    std = np.std(val_list)\n",
    "    ax.plot(val_list, label='Rewards')\n",
    "    ax.plot(range(len(val_list)), means, c='k', label='Mean')\n",
    "    ax.plot(range(len(val_list)), means + std , c='g', label='Standard deviation')\n",
    "    ax.plot(range(len(val_list)), means - std , c='g')\n",
    "    ax.legend()\n",
    "\n",
    "    \n",
    "fig = plt.figure()\n",
    "ax = fig.add_subplot(111)\n",
    "make_plot(rewards_s, ax)\n",
    "ax.set_ylabel('Reward')\n",
    "ax.set_xlabel('Episode')\n",
    "ax.set_title('Random agent')\n",
    "\n",
    "plt.tight_layout()\n",
    "plt.show()\n"
   ]
  },
  {
   "cell_type": "code",
   "execution_count": null,
   "metadata": {
    "collapsed": true
   },
   "outputs": [],
   "source": []
  },
  {
   "cell_type": "code",
   "execution_count": null,
   "metadata": {
    "collapsed": true
   },
   "outputs": [],
   "source": []
  },
  {
   "cell_type": "code",
   "execution_count": null,
   "metadata": {
    "collapsed": true
   },
   "outputs": [],
   "source": []
  },
  {
   "cell_type": "code",
   "execution_count": null,
   "metadata": {
    "collapsed": true
   },
   "outputs": [],
   "source": []
  },
  {
   "cell_type": "code",
   "execution_count": null,
   "metadata": {
    "collapsed": true
   },
   "outputs": [],
   "source": []
  }
 ],
 "metadata": {
  "kernelspec": {
   "display_name": "Python 3",
   "language": "python",
   "name": "python3"
  },
  "language_info": {
   "codemirror_mode": {
    "name": "ipython",
    "version": 3
   },
   "file_extension": ".py",
   "mimetype": "text/x-python",
   "name": "python",
   "nbconvert_exporter": "python",
   "pygments_lexer": "ipython3",
   "version": "3.5.2"
  }
 },
 "nbformat": 4,
 "nbformat_minor": 1
}
